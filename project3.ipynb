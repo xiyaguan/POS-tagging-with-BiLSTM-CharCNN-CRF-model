{
 "cells": [
  {
   "cell_type": "markdown",
   "metadata": {
    "id": "fAaw5yXfKrxY"
   },
   "source": [
    "# POS Tagging via Bi-directional LSTM-CNNs-CRF"
   ]
  },
  {
   "cell_type": "markdown",
   "metadata": {
    "id": "EQnkXf7bKrxb"
   },
   "source": [
    "In this document, I will show you how to implement a state of the art [Bi-directional LSTM-CNN-CRF architecture](http://www.aclweb.org/anthology/P16-1101) for POS tagging using pytorch."
   ]
  },
  {
   "cell_type": "markdown",
   "metadata": {
    "id": "2t5cci7xKrxc"
   },
   "source": [
    "The agenda of this implementation is as follows:\n",
    "1. Processing data samples using two pytorch data primitives: [Dataset & dataloader](https://pytorch.org/tutorials/beginner/basics/data_tutorial.html)\n",
    "2. Replace the randomly initialized embeddings with pre-trained word embeddings: [GloVe](https://nlp.stanford.edu/projects/glove/)\n",
    "3. Build up LSTM-CNNs-CRF model, this includes:\n",
    "    1. character CNN encoder for char level embeddings\n",
    "    2. randomly initialized word embeddings or pretrained word embeddings\n",
    "    3. charCNN layer\n",
    "    4. biLSTM layer\n",
    "    5. CRF layer\n",
    "4. Training/validating/testing.\n"
   ]
  },
  {
   "cell_type": "code",
   "execution_count": 180,
   "metadata": {
    "colab": {
     "base_uri": "https://localhost:8080/"
    },
    "id": "GidfjPA9FsdH",
    "outputId": "6a2e6299-9c7f-474f-d120-a5b9810bdea9"
   },
   "outputs": [
    {
     "name": "stderr",
     "output_type": "stream",
     "text": [
      "[nltk_data] Downloading package punkt to /Users/xiyaguan/nltk_data...\n",
      "[nltk_data]   Package punkt is already up-to-date!\n"
     ]
    }
   ],
   "source": [
    "import os\n",
    "import re\n",
    "import random\n",
    "\n",
    "import nltk\n",
    "from nltk.stem import PorterStemmer\n",
    "from nltk.tokenize import word_tokenize\n",
    "nltk.download('punkt')\n",
    "\n",
    "import torch\n",
    "import torch.nn as nn\n",
    "import torch.optim as optim\n",
    "import torch.nn.functional as F\n",
    "import tqdm"
   ]
  },
  {
   "cell_type": "markdown",
   "metadata": {
    "id": "axNrvuJLKrxf"
   },
   "source": [
    "## I. Define parameters"
   ]
  },
  {
   "cell_type": "code",
   "execution_count": 181,
   "metadata": {
    "id": "pGmd2gcVGg2W"
   },
   "outputs": [],
   "source": [
    "# Hyperparameters\n",
    "NUM_EPOCHS = 5\n",
    "LEARNING_RATE = 0.002\n",
    "DROPOUT = 0.2\n",
    "EMBED_DIM = 50  # input word embedding dimension\n",
    "CHAR_EMBED_DIM = 50  # = num_output_channel (number of kernels or filters) of charCNN: charator embedding dimension \n",
    "HIDDEN_DIM = 50  # The number of features in the hidden state h in LSTM layer\n",
    "NUM_LAYERS = 1  # number of LSTM layers  \n",
    "BIDIRECTIONAL = True  # If True, becomes a bidirectional LSTM\n",
    "KERNEL_SIZE = 2  # Size of the convolving kernel (number of chars to apply a single convolution)\n",
    "\n",
    "# GPU setting\n",
    "SEED = 1334\n",
    "DEVICE_ID = 0\n",
    "\n",
    "# padding and unknown symbols and indicis for token\n",
    "PAD_IDX = 0\n",
    "UNK_IDX = 1\n",
    "UNK = '<unk>'\n",
    "PAD = '<pad>'\n",
    "\n",
    "# padding and unknown symbols and indicis for charactors\n",
    "CHAR_PAD_IDX = 0\n",
    "CHAR_UNK_IDX = 1\n",
    "CHAR_UNK = '<char_unk>'\n",
    "CHAR_PAD = '<char_PAD>'\n",
    "\n",
    "# beging of sentence tag and end of sentence tag\n",
    "BOS = '<bos>' # CRF\n",
    "EOS = '<eos>' # CRF\n",
    "\n",
    "# hyperparameter for implementing char embedding using charCNN\n",
    "# for each words, we will do pad or trauncate \n",
    "# to convert the original word into a WORD_LEN letters word.\n",
    "WORD_LEN = 20"
   ]
  },
  {
   "cell_type": "code",
   "execution_count": 182,
   "metadata": {
    "colab": {
     "base_uri": "https://localhost:8080/"
    },
    "id": "uXVQxxCkGkTW",
    "outputId": "8d47bf00-5f1c-4a17-bc21-0383328d3124"
   },
   "outputs": [
    {
     "data": {
      "text/plain": [
       "device(type='cpu')"
      ]
     },
     "execution_count": 182,
     "metadata": {},
     "output_type": "execute_result"
    }
   ],
   "source": [
    "os.environ[\"CUDA_VISIBLE_DEVICES\"] = f\"{DEVICE_ID}\"\n",
    "device = torch.device('cuda' if torch.cuda.is_available() else 'cpu')\n",
    "device"
   ]
  },
  {
   "cell_type": "code",
   "execution_count": 183,
   "metadata": {
    "id": "YMxCB_wUGmEL"
   },
   "outputs": [],
   "source": [
    "random.seed(SEED)\n",
    "torch.manual_seed(SEED)\n",
    "torch.cuda.manual_seed_all(SEED)\n",
    "torch.backends.cudnn.deterministic = True"
   ]
  },
  {
   "cell_type": "markdown",
   "metadata": {
    "id": "hrudG93BJsGA"
   },
   "source": [
    "## II. Read files"
   ]
  },
  {
   "cell_type": "code",
   "execution_count": 184,
   "metadata": {
    "id": "5SAAvljeJyym"
   },
   "outputs": [],
   "source": [
    "def read_in_gold_data(filename):\n",
    "    \"\"\"Read in the labeled gold data into a list\"\"\"\n",
    "    dataset = []\n",
    "    with open(filename) as f:\n",
    "        for line in f:\n",
    "            tuples = [tup.split('_') for tup in line.split()]\n",
    "            tokens = [tup[0].lower() for tup in tuples]\n",
    "            tags = [tup[1] for tup in tuples]\n",
    "            dataset.append((tokens, tags))\n",
    "    return dataset"
   ]
  },
  {
   "cell_type": "code",
   "execution_count": 185,
   "metadata": {
    "colab": {
     "base_uri": "https://localhost:8080/"
    },
    "id": "W_IsRdA7moz3",
    "outputId": "a4a1ac0a-2f9e-48af-9198-989ff9ba2eda"
   },
   "outputs": [
    {
     "name": "stdout",
     "output_type": "stream",
     "text": [
      "39832\n"
     ]
    }
   ],
   "source": [
    "# from google.colab import drive\n",
    "# drive.mount('/content/drive')\n",
    "# train_filepath = os.path.join(os.getcwd(), \"train/train.tagged\")\n",
    "# train_filepath = \"/content/drive/MyDrive/PA3_Starter_code/train/train.tagged\"\n",
    "# train_filepath = \"/content/drive/MyDrive/PA3_Starter_code/train/ptb_02-21.tagged\"\n",
    "train_filepath = os.path.join(os.getcwd(), \"train/ptb_02-21.tagged\")\n",
    "training = read_in_gold_data(train_filepath)\n",
    "print(len(training))\n",
    "dev_filepath = os.path.join(os.getcwd(), \"dev/ptb_22.tagged\")\n",
    "# dev_filepath = \"/content/drive/MyDrive/PA3_Starter_code/dev/ptb_22.tagged\"\n",
    "dev = read_in_gold_data(dev_filepath)"
   ]
  },
  {
   "cell_type": "markdown",
   "metadata": {
    "id": "CmbbElBDK8C2"
   },
   "source": [
    "## III. Build up tokens/tags/chars vocab"
   ]
  },
  {
   "cell_type": "code",
   "execution_count": 186,
   "metadata": {
    "id": "j6NcPIOcHLh3"
   },
   "outputs": [],
   "source": [
    "tokens, tags, chars = set(), set(), set()"
   ]
  },
  {
   "cell_type": "code",
   "execution_count": 187,
   "metadata": {
    "colab": {
     "base_uri": "https://localhost:8080/"
    },
    "id": "SaC1ktG7NGFq",
    "outputId": "5bfebcd3-49d7-4bda-aba3-27256c86f9ab"
   },
   "outputs": [
    {
     "data": {
      "text/plain": [
       "tensor(4.4634)"
      ]
     },
     "execution_count": 187,
     "metadata": {},
     "output_type": "execute_result"
    }
   ],
   "source": [
    "word_lens = []\n",
    "for sent in training:\n",
    "    tokens.update(sent[0])\n",
    "    tags.update(sent[1])\n",
    "    for word in sent[0]:\n",
    "        chars.update(word)\n",
    "        word_lens.append(len(word))\n",
    "a = torch.tensor(word_lens)\n",
    "torch.mean(a.float())"
   ]
  },
  {
   "cell_type": "code",
   "execution_count": 188,
   "metadata": {
    "id": "NXk5DAVwO4We"
   },
   "outputs": [],
   "source": [
    "tokens, tags, chars = sorted(tokens), sorted(tags), sorted(chars)\n",
    "# tags"
   ]
  },
  {
   "cell_type": "code",
   "execution_count": 189,
   "metadata": {
    "id": "S6t0RRnwPGJT"
   },
   "outputs": [],
   "source": [
    "tokens = [PAD, UNK] + tokens\n",
    "token2idx = {word: i for i, word in enumerate(tokens)}\n",
    "idx2token = {i: word for i, word in enumerate(tokens)}\n",
    "token_vocab = (token2idx, idx2token)\n",
    "# len(tokens)"
   ]
  },
  {
   "cell_type": "code",
   "execution_count": 190,
   "metadata": {
    "colab": {
     "base_uri": "https://localhost:8080/"
    },
    "id": "6ZgHjrHWSxDj",
    "outputId": "cefa4d27-1d5c-47d6-ae38-3322015225d9"
   },
   "outputs": [
    {
     "name": "stdout",
     "output_type": "stream",
     "text": [
      "['<bos>', '<eos>', '#', '$', \"''\", ',', '-LRB-', '-RRB-', '.', ':', 'CC', 'CD', 'DT', 'EX', 'FW', 'IN', 'JJ', 'JJR', 'JJS', 'LS', 'MD', 'NN', 'NNP', 'NNPS', 'NNS', 'PDT', 'POS', 'PRP', 'PRP$', 'RB', 'RBR', 'RBS', 'RP', 'SYM', 'TO', 'UH', 'VB', 'VBD', 'VBG', 'VBN', 'VBP', 'VBZ', 'WDT', 'WP', 'WP$', 'WRB', '``']\n"
     ]
    }
   ],
   "source": [
    "tags = [BOS, EOS] + tags\n",
    "tag2idx = {word: i for i, word in enumerate(tags)}\n",
    "idx2tag = {i: word for i, word in enumerate(tags)}\n",
    "tag_vocab = (tag2idx, idx2tag)\n",
    "num_tags = len(tags)\n",
    "TAG_PAD_IDX = num_tags\n",
    "print(tags)"
   ]
  },
  {
   "cell_type": "code",
   "execution_count": 191,
   "metadata": {
    "id": "Fag5RAgBKrxm"
   },
   "outputs": [],
   "source": [
    "chars = [CHAR_PAD, CHAR_UNK] + chars\n",
    "char2idx = {char: i for i, char in enumerate(chars)}\n",
    "idx2char = {i: char for i, char in enumerate(chars)}\n",
    "char_vocab = (char2idx, idx2char)\n",
    "# chars"
   ]
  },
  {
   "cell_type": "markdown",
   "metadata": {
    "id": "R1Vxn7HboTR6"
   },
   "source": [
    "## IV. Creating a Custom Dataset and Dataloader\n",
    "1. Customize Dataset\n",
    "2. Determine bucket boundaries\n",
    "3. Customize batch sampler\n",
    "4. Customize collate function\n",
    "5. Customize Dataloader"
   ]
  },
  {
   "cell_type": "markdown",
   "metadata": {
    "id": "f-iMhgDsKrxn"
   },
   "source": [
    "### 1. Customize Dataset"
   ]
  },
  {
   "cell_type": "code",
   "execution_count": 192,
   "metadata": {
    "id": "GWs7NJtNkKxt"
   },
   "outputs": [],
   "source": [
    "from torch.utils.data import Dataset"
   ]
  },
  {
   "cell_type": "code",
   "execution_count": 193,
   "metadata": {
    "id": "Ytm9XTuikNaz"
   },
   "outputs": [],
   "source": [
    "class POStagging(Dataset):\n",
    "    def __init__(self, data, token2idx, tag2idx):\n",
    "        self.data = data\n",
    "        self.token2idx = token2idx\n",
    "        self.tag2idx = tag2idx\n",
    "\n",
    "    def featurize(self, tokens, tags):\n",
    "        normalized_tokens = [x if x in self.token2idx else UNK for x in tokens]\n",
    "        featurized_tokens = [self.token2idx[x] for x in normalized_tokens]\n",
    "        featurized_tags = [self.tag2idx[x] for x in tags]\n",
    "        return featurized_tokens, featurized_tags\n",
    "\n",
    "    def __getitem__(self, idx):\n",
    "        tokens, tags = self.data[idx]\n",
    "        featurized_tokens, featurized_tags = self.featurize(tokens, tags)\n",
    "\n",
    "        x = torch.tensor(featurized_tokens, dtype=torch.int64)\n",
    "        y = torch.tensor(featurized_tags, dtype=torch.int64)\n",
    "        return x, y, tokens, tags\n",
    "\n",
    "    def __len__(self):\n",
    "        return len(self.data)\n"
   ]
  },
  {
   "cell_type": "code",
   "execution_count": 194,
   "metadata": {
    "id": "MExNW4STrF2d"
   },
   "outputs": [],
   "source": [
    "training_dataset = POStagging(training, token2idx, tag2idx)\n",
    "dev_dataset = POStagging(dev, token2idx, tag2idx)"
   ]
  },
  {
   "cell_type": "markdown",
   "metadata": {
    "id": "FLOkr2_iTIDu"
   },
   "source": [
    "### 2. Choosing bucket boundaries"
   ]
  },
  {
   "cell_type": "code",
   "execution_count": 195,
   "metadata": {
    "id": "aK-cDYL2TO9l"
   },
   "outputs": [],
   "source": [
    "import numpy as np\n",
    "import matplotlib.pyplot as plt"
   ]
  },
  {
   "cell_type": "code",
   "execution_count": 196,
   "metadata": {
    "colab": {
     "base_uri": "https://localhost:8080/"
    },
    "id": "R62q979TWRr8",
    "outputId": "26565aad-0514-48e7-850b-d6ac4acad0e7"
   },
   "outputs": [
    {
     "data": {
      "text/plain": [
       "(1, 23.850873669411527, 141)"
      ]
     },
     "execution_count": 196,
     "metadata": {},
     "output_type": "execute_result"
    }
   ],
   "source": [
    "lens = np.array([len(x[0]) for x in training])\n",
    "np.min(lens), np.mean(lens), np.max(lens)"
   ]
  },
  {
   "cell_type": "code",
   "execution_count": 197,
   "metadata": {
    "id": "RFNR2pZOWeYd"
   },
   "outputs": [],
   "source": [
    "# plt.figure()\n",
    "# plt.grid(True)\n",
    "# plt.hist(lens, bins=10)\n",
    "# plt.show()"
   ]
  },
  {
   "cell_type": "code",
   "execution_count": 198,
   "metadata": {
    "id": "ZHpW3nU0Wahm"
   },
   "outputs": [],
   "source": [
    "# inclusive for endpoints\n",
    "# bucket ranges: [:10], [10:20], [20:30], [30:40], [40:60], [60:]\n",
    "buckets = [10, 20, 30, 40, 60, 80]"
   ]
  },
  {
   "cell_type": "code",
   "execution_count": 199,
   "metadata": {
    "id": "NUuJ_WyGXrXj"
   },
   "outputs": [],
   "source": [
    "# plt.figure(figsize=[100, 25])\n",
    "# plt.subplot(121)\n",
    "# plt.hist(lens, bins=10)\n",
    "# plt.grid(True)\n",
    "# plt.title('Distribution of Lengths')\n",
    "# plt.show()"
   ]
  },
  {
   "cell_type": "code",
   "execution_count": 200,
   "metadata": {
    "id": "as-qalBSZjrp"
   },
   "outputs": [],
   "source": [
    "# plt.figure(figsize=[100, 25])\n",
    "# plt.subplot(122)\n",
    "# plt.hist(lens, bins=[1]+buckets+[100], align='mid')\n",
    "# plt.grid(True)\n",
    "# plt.title('Bucketed Lengths')\n",
    "# plt.show()"
   ]
  },
  {
   "cell_type": "markdown",
   "metadata": {
    "id": "rUJFDdCNZ13E"
   },
   "source": [
    "### 3. Customize batch sampler"
   ]
  },
  {
   "cell_type": "code",
   "execution_count": 201,
   "metadata": {
    "id": "MqrDN_Khfvey"
   },
   "outputs": [],
   "source": [
    "def batchify(iterable, n):\n",
    "    l = len(iterable)\n",
    "    for ndx in range(0, l, n):\n",
    "        yield iterable[ndx: min(ndx + n, l)]"
   ]
  },
  {
   "cell_type": "code",
   "execution_count": 202,
   "metadata": {
    "id": "adVmo-JMZ5GJ"
   },
   "outputs": [],
   "source": [
    "class CustomBucketSampler:\n",
    "    def __init__(self, dataset, buckets, batch_size):\n",
    "        self.dataset = dataset\n",
    "        self.buckets = buckets  \n",
    "        self.num_buckets = len(buckets) + 1  # 6\n",
    "        self.batch_size = batch_size\n",
    "    \n",
    "    def __len__(self):\n",
    "        return len(self.dataset)\n",
    "    \n",
    "    def __iter__(self):\n",
    "        # 1. collect lengths (and corresponding ids) of all data instances\n",
    "        idx_lens = [(i, len(x[0])) for i, x in enumerate(self.dataset)]\n",
    "        \n",
    "        # 2. sort by lengths\n",
    "        idx_lens = sorted(idx_lens, key=lambda x:x[1])\n",
    "        \n",
    "        # 3. create empty buckets\n",
    "        buckets = [[] for _ in range(self.num_buckets)]\n",
    "        \n",
    "        # 4. assign data to appropriate buckets\n",
    "        for i, l in idx_lens:\n",
    "            for j, bucket_limit in enumerate(self.buckets):\n",
    "                if l <= bucket_limit: # if length falls within a certain boundary\n",
    "                    buckets[j].append(i)\n",
    "                    break\n",
    "            # for data whose length is greater than the max boundary (9), assign to last bucket\n",
    "            if l > bucket_limit: # `bucket_limit` guaranteed to be 9\n",
    "                buckets[-1].append(i)\n",
    "                \n",
    "        # make sure the numbers match up\n",
    "        assert sum([len(x) for x in buckets]) == len(self.dataset)\n",
    "        \n",
    "        # 5. create batches in each bucket while shuffling\n",
    "        batches = []\n",
    "        for bucket in buckets: \n",
    "            random.shuffle(bucket)\n",
    "            for batch in batchify(bucket, self.batch_size):\n",
    "                batches.append(batch)\n",
    "\n",
    "        # 6. shuffle batches and finally yield\n",
    "        random.shuffle(batches)\n",
    "        for batch in batches:\n",
    "            yield batch"
   ]
  },
  {
   "cell_type": "code",
   "execution_count": 203,
   "metadata": {
    "id": "4bta-P3MgOQU"
   },
   "outputs": [],
   "source": [
    "batch_size = 5\n",
    "train_sampler = CustomBucketSampler(training, buckets, batch_size=batch_size)"
   ]
  },
  {
   "cell_type": "code",
   "execution_count": 204,
   "metadata": {
    "id": "z-FZJSoNiSeP"
   },
   "outputs": [],
   "source": [
    "from torch.nn.utils.rnn import pad_sequence"
   ]
  },
  {
   "cell_type": "markdown",
   "metadata": {
    "id": "VLphb5QbKrxq"
   },
   "source": [
    "### 4. Customize collate function"
   ]
  },
  {
   "cell_type": "code",
   "execution_count": 205,
   "metadata": {
    "id": "RBKyAcR3iwjj"
   },
   "outputs": [],
   "source": [
    "def collate_fn(batch):  \n",
    "#     print(batch[0][0])\n",
    "#     print(batch[0][1])\n",
    "#     print(batch[0][2])\n",
    "#     print(batch[0][3])\n",
    "    featurized_tokens, featurized_tags, row_tokens, row_tags = zip(*batch)\n",
    "#     print(f\"featurized_tokens:{featurized_tokens}\")\n",
    "#     print(f\"featurized_tags:{featurized_tags}\")\n",
    "#     print(f\"row_tokens:{type(row_tokens)}\")\n",
    "#     print(f\"row_tags:{row_tags}\")\n",
    "    lens = [len(x) for x in featurized_tokens]\n",
    "#     print(f\"lens:{lens}\")\n",
    "    tokens = pad_sequence(featurized_tokens, batch_first=True, padding_value=PAD_IDX)\n",
    "    tags = pad_sequence(featurized_tags, batch_first=True, padding_value=TAG_PAD_IDX)\n",
    "    return tokens, tags, row_tokens, row_tags, torch.tensor(lens)"
   ]
  },
  {
   "cell_type": "markdown",
   "metadata": {
    "id": "uKnZ1ANrjjDx"
   },
   "source": [
    "### 5. Customize Dataloader"
   ]
  },
  {
   "cell_type": "code",
   "execution_count": 206,
   "metadata": {
    "id": "aFELr76qjm_s"
   },
   "outputs": [],
   "source": [
    "from torch.utils.data import DataLoader"
   ]
  },
  {
   "cell_type": "code",
   "execution_count": 207,
   "metadata": {
    "id": "Fi5Oc3OVjsOd"
   },
   "outputs": [],
   "source": [
    "train_dl = DataLoader(training_dataset, collate_fn=collate_fn, batch_sampler=train_sampler)\n",
    "dev_dl = DataLoader(dev_dataset, batch_size=len(dev_dataset), collate_fn=collate_fn)\n",
    "# tokens, tags, row_tokens, row_tags, lens = next(iter(dev_dl))\n",
    "# print(tokens.shape)\n",
    "# print(tags.shape)\n",
    "# print(lens.shape)\n",
    "# print(len(row_tokens))\n",
    "# x, y, tokens, tags\n",
    "# for i, batch in enumerate(train_dl):\n",
    "#     print(batch)\n",
    "# #     print(f\"featurized_tokens:{batch[0][0]}\")\n",
    "# #     print(f\"featurized_tags:{batch[0][1]}\")\n",
    "# #     print(f\"row_tokens:{batch[0][2]}\")\n",
    "# #     print(f\"row_tags:{batch[0][3]}\")\n",
    "# #     print(f\"lens:{batch[0][4]}\")\n",
    "#     if i == 0:\n",
    "#         break"
   ]
  },
  {
   "cell_type": "markdown",
   "metadata": {
    "id": "xiqoj5GeKrxr"
   },
   "source": [
    "## V. Set up pretrained word embeddings -- Glove"
   ]
  },
  {
   "cell_type": "code",
   "execution_count": 208,
   "metadata": {
    "id": "vC8pkJtxKrxr"
   },
   "outputs": [],
   "source": [
    "## Code the read in pre-trained word embeddings\n",
    "def glove2dict(glove_path,emb_dim=50):\n",
    "    \"\"\"Read in glove embeddings and create a dictionary\"\"\"\n",
    "    glove_dict = {}\n",
    "    if emb_dim == 50:\n",
    "        fname= \"glove.6B.50d.txt\"\n",
    "    elif emb_dim == 100:\n",
    "        fname=\"glove.6B.100d.txt\"\n",
    "    elif emb_dim == 200:\n",
    "        fname=\"glove.6B.200d.txt\"\n",
    "    elif emb_dim == 300:\n",
    "        fname=\"glove.6B.300d.txt\"\n",
    "    else:\n",
    "        print(\"Inappropriate glove size chosen, using 50\")\n",
    "        fname=\"glove.6B.50d.txt\"\n",
    "    with open(f'{glove_path}/{fname}', 'rb') as f:\n",
    "        for l in f:\n",
    "            line = l.decode().split()\n",
    "            word = line[0]\n",
    "            vect = np.array(line[1:])\n",
    "            glove_dict[word] = vect\n",
    "    return glove_dict"
   ]
  },
  {
   "cell_type": "code",
   "execution_count": 209,
   "metadata": {
    "id": "mzqBkgmAKrxs"
   },
   "outputs": [],
   "source": [
    "def create_glove_embeddings(glove_path, token2idx, emb_dim=50):\n",
    "    \"\"\"create the glove embeddings for a target dictionary\"\"\"\n",
    "    glove = glove2dict(glove_path, emb_dim)\n",
    "    matrix_len = len(token2idx) \n",
    "  \n",
    "    weights_matrix = np.zeros((matrix_len, emb_dim))\n",
    "    pad_weight = np.zeros((1, emb_dim))\n",
    "    words_not_found = 0\n",
    "    \n",
    "    for word, idx in token2idx.items():\n",
    "        if word == PAD:\n",
    "            weights_matrix[idx] = pad_weight\n",
    "        \n",
    "        else:\n",
    "            try:\n",
    "                weights_matrix[idx] = glove[word]\n",
    "            except KeyError:\n",
    "                weights_matrix[idx] = np.random.normal(scale=0.6, size=(1, emb_dim))\n",
    "                words_not_found += 1\n",
    "    return torch.from_numpy(weights_matrix).float(), words_not_found"
   ]
  },
  {
   "cell_type": "code",
   "execution_count": 210,
   "metadata": {
    "colab": {
     "base_uri": "https://localhost:8080/"
    },
    "id": "inikF1TAKrxs",
    "outputId": "39333867-4c2d-41d8-ecd1-4e145b6817bf"
   },
   "outputs": [
    {
     "name": "stdout",
     "output_type": "stream",
     "text": [
      "words not found in glove:5749\n"
     ]
    }
   ],
   "source": [
    "glove_path = os.path.join(os.getcwd(), \"embedding\")\n",
    "# glove_path = \"/content/drive/MyDrive/PA3_Starter_code/embedding\"\n",
    "weights_matrix, words_not_found = create_glove_embeddings(glove_path, token2idx, EMBED_DIM)\n",
    "print(f\"words not found in glove:{words_not_found}\")"
   ]
  },
  {
   "cell_type": "markdown",
   "metadata": {
    "id": "gJ2bWmo7Krxs"
   },
   "source": [
    "## VI. Build up model\n",
    "1. charCNN layer (customize charCNNEmbeddings)\n",
    "2. biLSTM layer\n",
    "3. CRF layer\n",
    "4. biLSTM_greedy model (without CRF layer)\n",
    "5. biLSTM_CRF model (with CRF layer)"
   ]
  },
  {
   "cell_type": "markdown",
   "metadata": {
    "id": "vOwsEmeEKrxs"
   },
   "source": [
    "### 1. charCNN layer"
   ]
  },
  {
   "cell_type": "code",
   "execution_count": 211,
   "metadata": {
    "id": "Pu6Xz3BAKrxs"
   },
   "outputs": [],
   "source": [
    "class CharCNNEmbeddings(nn.Module):\n",
    "    def __init__(self, char_input_dim, char_embed_dim, char_pad_idx, device):\n",
    "        super().__init__()\n",
    "        self.embeddings = nn.Embedding(char_input_dim, char_embed_dim, padding_idx=char_pad_idx, device=device)\n",
    "    \n",
    "    def forward(self, x, row_x, lens):\n",
    "        # x.shape: [batch_size, seq_length]\n",
    "        # row_x: list of list of words [I idx(l), idx(o), idx(v), idx(e), 0,0, 0 you], [I hate], []\n",
    "        \n",
    "        \n",
    "        # return shape: [batch_size, seq_length, char_embeddings_dim, word_len]\n",
    "        batch_size, seq_length = x.size()\n",
    "        # input_tensor.shape [batch_size, max_seq_length, WORD_LEN]\n",
    "        input_tensor = torch.zeros(batch_size, seq_length, WORD_LEN, dtype=torch.long)\n",
    "        for i in range(batch_size):\n",
    "            for j in range(lens[i]):\n",
    "                for k, char in enumerate(row_x[i][j][:WORD_LEN]):\n",
    "                    if char in char2idx:\n",
    "                        input_tensor[i, j, k] = char2idx[char]\n",
    "                    else:\n",
    "                        input_tensor[i, j, k] = CHAR_UNK_IDX\n",
    "        char_embeddings_features = self.embeddings(input_tensor)\n",
    "        # [batch_size, max_seq_length, char_embeddings_dim, fixed_word_len=20]\n",
    "        return char_embeddings_features.permute(0, 1, 3, 2)"
   ]
  },
  {
   "cell_type": "code",
   "execution_count": 212,
   "metadata": {
    "id": "fWCNIQ-QKrxt"
   },
   "outputs": [],
   "source": [
    "class CharCNN(nn.Module):\n",
    "    def __init__(self, char_input_dim, char_embed_dim, hidden_dim, kernel_size, char_pad_idx, device):\n",
    "        super().__init__()\n",
    "        self.hidden_dim = hidden_dim\n",
    "        self.embedding = CharCNNEmbeddings(char_input_dim, char_embed_dim, char_pad_idx, device)\n",
    "        self.conv = nn.Conv1d(char_embed_dim, hidden_dim, kernel_size)\n",
    "        \n",
    "    def forward(self, x, row_x, lens):\n",
    "        # [batch_size, seq_length, char_embeddings_dim, word_len]\n",
    "        embeds = self.embedding(x, row_x, lens)\n",
    "        batch_size, seq_length, char_embed_dim, word_len = embeds.size()\n",
    "        \n",
    "        max_pooling_output = torch.zeros(batch_size, seq_length, self.hidden_dim)\n",
    "        for i in range(batch_size):\n",
    "            conv = F.relu(self.conv(embeds[i]))          \n",
    "            conv = F.max_pool1d(conv, conv.shape[-1])\n",
    "            conv = torch.squeeze(conv, -1)            \n",
    "            max_pooling_output[i] = conv\n",
    "            \n",
    "        # char_embeddings_dim, word_len   -> (50, )\n",
    "        return max_pooling_output  # [[batch_size, seq_length, embed_dim]\n",
    "        "
   ]
  },
  {
   "cell_type": "code",
   "execution_count": 213,
   "metadata": {
    "id": "C2nuwbl8Krxt"
   },
   "outputs": [],
   "source": [
    "# char_input_dim = len(chars)\n",
    "# char_embed_dim = CHAR_EMBED_DIM\n",
    "# kernel_size = 2\n",
    "# char_pad_idx = CHAR_PAD_IDX\n",
    "# hidden_dim = 50\n",
    "# # emb = CharCNNEmbeddings(char_input_dim, CHAR_EMBED_DIM, CHAR_PAD_IDX)\n",
    "# x = torch.tensor([[2, 3, 4, 0], [2, 5, 0, 0], [2, 6, 3, 4]])\n",
    "# row_x = [['i', 'love', 'you'], ['i', 'what'], ['i', 'dont', 'love', 'you']]\n",
    "# lens = torch.tensor([3, 2, 4])\n",
    "# # emb(x, row_x, lens)\n",
    "# cnn = CharCNN(char_input_dim, char_embed_dim, hidden_dim, kernel_size, char_pad_idx)\n",
    "# cnn(x, row_x, lens)\n"
   ]
  },
  {
   "cell_type": "markdown",
   "metadata": {
    "id": "E7uhmb5VKrxt"
   },
   "source": [
    "### 2. biLSTM layer"
   ]
  },
  {
   "cell_type": "code",
   "execution_count": 214,
   "metadata": {
    "id": "TEd-iniTA88d"
   },
   "outputs": [],
   "source": [
    "class BiLSTM(nn.Module):\n",
    "    def __init__(self, input_dim, char_input_dim, output_dim, device, token_pad_idx, char_pad_idx, pretrained_weights):\n",
    "        super().__init__()\n",
    "        '''\n",
    "        1. word_embedding\n",
    "        '''\n",
    "#         if pretrained_weights == None:\n",
    "        self.embedding = nn.Embedding(input_dim, EMBED_DIM, padding_idx=token_pad_idx)\n",
    "#         else:\n",
    "#         print(pretrained_weights.shape)\n",
    "        # self.embedding = nn.Embedding.from_pretrained(pretrained_weights, freeze=True)\n",
    "            \n",
    "        '''\n",
    "        2. char-CNN embedding\n",
    "        '''\n",
    "#         self.charembedding = CharCNN(char_input_dim, CHAR_EMBED_DIM, EMBED_DIM, KERNEL_SIZE, char_pad_idx, device)\n",
    "        self.lstm = nn.LSTM(EMBED_DIM, HIDDEN_DIM, num_layers=NUM_LAYERS, batch_first=True, bidirectional=BIDIRECTIONAL)\n",
    "        self.linear = nn.Linear(HIDDEN_DIM*2 if BIDIRECTIONAL else HIDDEN_DIM, output_dim) # project to vocab space\n",
    "        self.dropout = nn.Dropout(DROPOUT)\n",
    "        self.device = device\n",
    "        \n",
    "    def init_hidden(self, batch_size):\n",
    "        direction_multiplier = 2 if BIDIRECTIONAL else 1\n",
    "        return (torch.randn(direction_multiplier * NUM_LAYERS, batch_size, HIDDEN_DIM, device=self.device), # h0\n",
    "                torch.randn(direction_multiplier * NUM_LAYERS, batch_size, HIDDEN_DIM, device=self.device)) # c0\n",
    "        \n",
    "    def forward(self, x, rows_x, lens):\n",
    "        '''\n",
    "        1. word_embedding\n",
    "        '''\n",
    "        token_embed = self.embedding(x)  # shape: [batch_size, seq_length, emb_dim]\n",
    "        '''\n",
    "        2. char-CNN embedding\n",
    "        '''\n",
    "#         char_embed = self.charembedding(x, rows_x, lens)\n",
    "#         embed = token_embed + char_embed\n",
    "#         embed = torch.cat((token_embed, char_embed), dim=2)\n",
    "        embed = self.embedding(x)\n",
    "        embed = self.dropout(embed)\n",
    "        batch_size = embed.shape[0]\n",
    "        self.hidden = self.init_hidden(batch_size)\n",
    "        outputs, _ = self.lstm(embed, self.hidden)\n",
    "        outputs = self.linear(outputs)\n",
    "        return outputs \n"
   ]
  },
  {
   "cell_type": "markdown",
   "metadata": {
    "id": "K0WLU3jJKrxt"
   },
   "source": [
    "### 3. CRF layer"
   ]
  },
  {
   "cell_type": "code",
   "execution_count": 215,
   "metadata": {
    "id": "GJBNgr5_Krxu"
   },
   "outputs": [],
   "source": [
    "class CRF(nn.Module):\n",
    "    \"\"\"TODO: Impelement CRF forward, score and viterbi functions\"\"\"\n",
    "    def __init__(self, tgt_vocab, device):\n",
    "        super().__init__()\n",
    "        self.tag2idx, self.idx2tag = tgt_vocab\n",
    "        self.tag_size = len(self.tag2idx)\n",
    "        self.device = device\n",
    "        \n",
    "        # transition matrix\n",
    "        self.start_transitions = nn.Parameter(torch.empty(num_tags, device=self.device))\n",
    "        self.end_transitions = nn.Parameter(torch.empty(num_tags, device=self.device))\n",
    "        self.transitions = nn.Parameter(torch.empty(num_tags, num_tags, device=self.device))\n",
    "        \n",
    "        self.reset_parameters()\n",
    "        # print(self.start_transitions.is_cuda)\n",
    "        # print(self.end_transitions.is_cuda)\n",
    "        # print(self.transitions.is_cuda)\n",
    "    \n",
    "    def reset_parameters(self):\n",
    "        nn.init.uniform_(self.start_transitions, -0.1, 0.1)\n",
    "        nn.init.uniform_(self.end_transitions, -0.1, 0.1)\n",
    "        nn.init.uniform_(self.transitions, -0.1, 0.1)\n",
    "    \n",
    "    def forward(self, feats, lens):\n",
    "        emissions = feats.transpose(0, 1)\n",
    "        # print(\"I am here\")\n",
    "        # print(emissions.is_cuda)\n",
    "        seq_length, batch_size = emissions.shape[0], emissions.shape[1]\n",
    "        # build up tag mask\n",
    "        # print(f\"seq_length.is_cuda:{seq_length.is_cuda:}\")\n",
    "        # print(f\"batch_size.is_cuda:{batch_size.is_cuda:}\")\n",
    "        # mask = torch.empty(seq_length, device=self.device)\n",
    "        # torch.arange(seq_length).expand(lens.shape[0], seq_length).cuda() < lens.unsqueeze(1)\n",
    "        # print(lens.unsqueeze(1).is_cuda)\n",
    "        # mask = (torch.arange(seq_length).expand(lens.shape[0], seq_length) < lens.unsqueeze(1)).cuda()\n",
    "        # mask = torch.arange(seq_length).expand(len(lens), seq_length) < lens.unsqueeze(1)\n",
    "        # mask.cuda()\n",
    "        mask = torch.transpose(torch.arange(seq_length).expand(lens.shape[0], seq_length) < lens.unsqueeze(1), 0, 1)\n",
    "        # print(mask)\n",
    "        # print(\"I am here at mask\")\n",
    "        # print(f\"mask.is_cuda{mask.is_cuda}\")\n",
    "        score = self.start_transitions + emissions[0]\n",
    "        \n",
    "        for i in range(1, seq_length):\n",
    "            broadcast_score = score.unsqueeze(2)\n",
    "            broadcast_emissions = emissions[i].unsqueeze(1)\n",
    "            next_score = broadcast_score + self.transitions + broadcast_emissions\n",
    "            next_score = torch.logsumexp(next_score, dim=1)\n",
    "            score = torch.where(mask[i].unsqueeze(1), next_score, score)\n",
    "            \n",
    "        score += self.end_transitions\n",
    "        res = torch.logsumexp(score, dim=1)\n",
    "        return res\n",
    "        \n",
    "        \n",
    "    def score(self, feats, tags, lens):\n",
    "        # emissions.shape: [seq_len, batch_size, num_tags]\n",
    "        # tags.shape: [seq_len, batch_size]\n",
    "        # lens.shape: [batch_size, ]\n",
    "        # emissions\n",
    "        emissions = feats.transpose(0, 1)\n",
    "        tags = tags.transpose(0, 1)\n",
    "        seq_length, batch_size = tags.size()\n",
    "        \n",
    "        # build up tag mask\n",
    "        mask = (tags != TAG_PAD_IDX)\n",
    "        # gold tags \n",
    "        tags = tags * mask\n",
    "        \n",
    "        score = self.start_transitions[tags[0]]\n",
    "        score += emissions[0, torch.arange(batch_size), tags[0]]\n",
    "        \n",
    "        for i in range(1, seq_length):\n",
    "            score += self.transitions[tags[i - 1], tags[i]] * mask[i]\n",
    "            score += emissions[i, torch.arange(batch_size), tags[i]] * mask[i]\n",
    "        \n",
    "        seq_ends = lens - 1\n",
    "        last_tags = tags[seq_ends, torch.arange(batch_size)]\n",
    "        score += self.end_transitions[last_tags]\n",
    "        return score\n",
    "    \n",
    "    def viterbi(self, feats, lens):\n",
    "        emissions = feats.transpose(0, 1)\n",
    "        seq_length, batch_size = emissions.shape[0], emissions.shape[1]\n",
    "        # build up tag mask\n",
    "        # print(torch.arange(seq_length).expand(lens.shape[0], seq_length).cuda().is_cuda)\n",
    "        # print(lens.unsqueeze(1).is_cuda)\n",
    "        mask = torch.transpose(torch.arange(seq_length).expand(lens.shape[0], seq_length) < lens.unsqueeze(1), 0, 1)\n",
    "        \n",
    "        score = self.start_transitions + emissions[0]\n",
    "        history = []\n",
    "        \n",
    "        for i in range(1, seq_length):\n",
    "            broadcast_score = score.unsqueeze(2)\n",
    "            broadcast_emission = emissions[i].unsqueeze(1)\n",
    "            next_score = broadcast_score + self.transitions + broadcast_emission\n",
    "            next_score, indices = next_score.max(dim=1)\n",
    "            score = torch.where(mask[i].unsqueeze(1), next_score, score)\n",
    "            history.append(indices)\n",
    "        \n",
    "        score += self.end_transitions\n",
    "        seq_ends = lens - 1\n",
    "#         seq_ends = mask.long().sum(dim=0) - 1\n",
    "        best_tags_list = []\n",
    "        \n",
    "        for idx in range(batch_size):\n",
    "            # Find the tag which maximizes the score at the last timestep; this is our best tag\n",
    "            # for the last timestep\n",
    "            _, best_last_tag = score[idx].max(dim=0)\n",
    "            best_tags = [best_last_tag.item()]\n",
    "\n",
    "            # We trace back where the best last tag comes from, append that to our best tag\n",
    "            # sequence, and trace it back again, and so on\n",
    "            for hist in reversed(history[:seq_ends[idx]]):\n",
    "                best_last_tag = hist[idx][best_tags[-1]]\n",
    "                best_tags.append(best_last_tag.item())\n",
    "\n",
    "            # Reverse the order because we start from the last timestep\n",
    "            best_tags.reverse()\n",
    "            best_tags_list.append(best_tags)\n",
    "        return best_tags_list\n",
    "        "
   ]
  },
  {
   "cell_type": "markdown",
   "metadata": {
    "id": "wARLMKuOKrxu"
   },
   "source": [
    "### 4. biLSTM_greedy model"
   ]
  },
  {
   "cell_type": "code",
   "execution_count": 216,
   "metadata": {
    "id": "ZW8Xigi3Krxu"
   },
   "outputs": [],
   "source": [
    "class  BiLSTM_greedy(nn.Module):\n",
    "    def __init__(self, input_dim, char_input_dim, output_dim, tgt_vocab, device, token_pad_idx, char_pad_idx, pretrained_weights):\n",
    "        super().__init__()\n",
    "        self.lstm = BiLSTM(input_dim, char_input_dim, output_dim, device, token_pad_idx, char_pad_idx, pretrained_weights)\n",
    "\n",
    "    \n",
    "    def neg_log_likelihood(self, src, row_src, tgt, lens):\n",
    "        \"\"\"Compute negative log likelihood given sentence and gold POS labels\"\"\"\n",
    "        feats = self.lstm(src, row_src, lens)  # torch.Size([5, 56, 47]); tgt.shape:torch.Size([5, 56])\n",
    "        criterion = nn.CrossEntropyLoss(ignore_index=TAG_PAD_IDX)\n",
    "        predictions = feats.view(-1, feats.shape[-1])\n",
    "        tags = tgt.view(-1)\n",
    "        loss = criterion(predictions, tags)\n",
    "        return loss\n",
    "\n",
    "    def forward(self, src, row_src, lens):\n",
    "        \"\"\"Tag a single sentence\"\"\"\n",
    "        feats = self.lstm(src, row_src, lens)\n",
    "        return torch.argmax(feats, dim=2)\n"
   ]
  },
  {
   "cell_type": "code",
   "execution_count": 217,
   "metadata": {
    "id": "y7t09aMqhnCs"
   },
   "outputs": [],
   "source": [
    "# seq_length = 3\n",
    "# lens = torch.tensor([3, 4, 5])\n",
    "# (torch.arange(seq_length).expand(lens.shape[0], seq_length) < lens.unsqueeze(1)).cuda()"
   ]
  },
  {
   "cell_type": "markdown",
   "metadata": {
    "id": "y38kMnOrKrxu"
   },
   "source": [
    "### 5. biLSTM_CRF model"
   ]
  },
  {
   "cell_type": "code",
   "execution_count": 218,
   "metadata": {
    "id": "553M9KcJCksN"
   },
   "outputs": [],
   "source": [
    "class  BiLSTM_CRF(nn.Module):\n",
    "    def __init__(self, input_dim, char_input_dim, output_dim, tgt_vocab, device, token_pad_idx, char_pad_idx, pretrained_weights):\n",
    "        super().__init__()\n",
    "        self.lstm = BiLSTM(input_dim, char_input_dim, output_dim, device, token_pad_idx, char_pad_idx, pretrained_weights)\n",
    "        self.crf = CRF(tgt_vocab, device=device)\n",
    "    \n",
    "    def neg_log_likelihood(self, src, row_src, tgt, lens):\n",
    "        \"\"\"Compute negative log likelihood given sentence and gold POS labels\"\"\"\n",
    "        feats = self.lstm(src, row_src, lens)\n",
    "        # print(feats.is_cuda)\n",
    "        forward_score = self.crf(feats, lens)\n",
    "        # print(f\"forward_score.is_cuda:{forward_score.is_cuda:}\")\n",
    "        gold_score = self.crf.score(feats, tgt, lens)\n",
    "        # print(f\"gold_score.is_cuda:{gold_score.is_cuda:}\")\n",
    "        return torch.sum(forward_score - gold_score)\n",
    "\n",
    "    def forward(self, src, row_src, lens):\n",
    "        \"\"\"Tag a single sentence\"\"\"\n",
    "        feats = self.lstm(src, row_src, lens)\n",
    "        out = self.crf.viterbi(feats, lens)\n",
    "        return out    "
   ]
  },
  {
   "cell_type": "markdown",
   "metadata": {
    "id": "lTf_WkREKrxv"
   },
   "source": [
    "## VII. Training"
   ]
  },
  {
   "cell_type": "code",
   "execution_count": 219,
   "metadata": {
    "id": "4WcgTjaxDhgf"
   },
   "outputs": [],
   "source": [
    "input_dim = len(tokens)\n",
    "output_dim = len(tags)\n",
    "char_input_dim = len(chars)"
   ]
  },
  {
   "cell_type": "code",
   "execution_count": 220,
   "metadata": {
    "id": "PO_u2IjDDbVr"
   },
   "outputs": [],
   "source": [
    "# input_dim, char_input_dim, output_dim, tgt_vocab, device, token_pad_idx, char_pad_idx, pretrained_weights):\n",
    "model = BiLSTM_greedy(input_dim, char_input_dim, output_dim, tag_vocab, device, PAD_IDX, CHAR_PAD_IDX, weights_matrix)\n",
    "# model = BiLSTM_CRF(input_dim, char_input_dim, output_dim, tag_vocab, device, PAD_IDX, CHAR_PAD_IDX, weights_matrix)\n",
    "model = model.to(device)\n",
    "optimizer = optim.Adam(model.parameters(), LEARNING_RATE)"
   ]
  },
  {
   "cell_type": "code",
   "execution_count": 221,
   "metadata": {
    "id": "dkCEmgSiKrxv"
   },
   "outputs": [],
   "source": [
    "def eval_model(devset, model):\n",
    "    \"\"\"Given a development set and a model, compute the accuracy of the model prediction\n",
    "    on the development set\"\"\"\n",
    "    model.eval()\n",
    "    total_tokens = 0\n",
    "    correct = 0\n",
    "    with torch.no_grad():\n",
    "        src, tgt, row_src, row_tgt, lens = next(iter(dev_dl))\n",
    "        src = src.to(device)\n",
    "        tgt = tgt.to(device)\n",
    "        lens = lens.to(device)\n",
    "    #             row_src = row_src.to(device)\n",
    "    #             row_tgt = row_tgt.to(device)\n",
    "\n",
    "        pred = model(src, row_src, lens)\n",
    "        for k in range(src.shape[0]):\n",
    "            length = lens[k]\n",
    "#             correct += (torch.tensor(pred[k]) == tgt[k, :length]).sum()\n",
    "            correct += (pred[k, :length] == tgt[k, :length]).sum()\n",
    "            # print(pred[k, :length])\n",
    "            # print(tgt[k, :length])\n",
    "            # print([idx2tag[tag.item()] for tag in pred[i, :length]])\n",
    "            # print([idx2tag[tag.item()] for tag in tgt[i, :length]])\n",
    "            total_tokens += length\n",
    "    dev_acc = correct/total_tokens\n",
    "    return dev_acc"
   ]
  },
  {
   "cell_type": "code",
   "execution_count": 222,
   "metadata": {
    "colab": {
     "base_uri": "https://localhost:8080/"
    },
    "id": "EIiQ73tEDg9V",
    "outputId": "b040422a-5fd2-4bbf-c78c-ed768a520291"
   },
   "outputs": [
    {
     "name": "stderr",
     "output_type": "stream",
     "text": [
      "[Training 1/5]: 7969it [03:48, 34.91it/s]\n"
     ]
    },
    {
     "name": "stdout",
     "output_type": "stream",
     "text": [
      "Training Epoch # 1 Loss: 4258.29 Acc: 0.85\n",
      "Acc on dev: 0.92\n"
     ]
    },
    {
     "name": "stderr",
     "output_type": "stream",
     "text": [
      "[Training 2/5]: 7969it [04:29, 29.59it/s]\n"
     ]
    },
    {
     "name": "stdout",
     "output_type": "stream",
     "text": [
      "Training Epoch # 2 Loss: 1943.03 Acc: 0.93\n"
     ]
    },
    {
     "name": "stderr",
     "output_type": "stream",
     "text": [
      "[Training 3/5]: 7969it [04:29, 29.59it/s]\n"
     ]
    },
    {
     "name": "stdout",
     "output_type": "stream",
     "text": [
      "Training Epoch # 3 Loss: 1490.60 Acc: 0.94\n",
      "Acc on dev: 0.94\n"
     ]
    },
    {
     "name": "stderr",
     "output_type": "stream",
     "text": [
      "[Training 4/5]: 7969it [04:27, 29.79it/s]\n"
     ]
    },
    {
     "name": "stdout",
     "output_type": "stream",
     "text": [
      "Training Epoch # 4 Loss: 1257.75 Acc: 0.95\n"
     ]
    },
    {
     "name": "stderr",
     "output_type": "stream",
     "text": [
      "[Training 5/5]: 7969it [04:24, 30.10it/s]\n"
     ]
    },
    {
     "name": "stdout",
     "output_type": "stream",
     "text": [
      "Training Epoch # 5 Loss: 1117.18 Acc: 0.96\n",
      "Acc on dev: 0.95\n"
     ]
    }
   ],
   "source": [
    "do_validation = 2\n",
    "for i in range(NUM_EPOCHS):\n",
    "    epoch_loss = 0.\n",
    "    num_correct = 0\n",
    "    num_tokens = 0\n",
    "\n",
    "    model.train()\n",
    "    for j, batch in tqdm.tqdm(enumerate(train_dl), desc=f'[Training {i+1}/{NUM_EPOCHS}]'):\n",
    "        src, tgt, row_src, row_tgt, lens = batch\n",
    "        src = src.to(device)\n",
    "        tgt = tgt.to(device)\n",
    "        lens = lens.to(device)\n",
    "        # row_src = row_src.to(device)\n",
    "        # row_tgt = row_tgt.to(device)\n",
    "        \n",
    "        model.zero_grad()\n",
    "        batch_size = src.shape[0]\n",
    "        \n",
    "        loss = model.neg_log_likelihood(src, row_src, tgt, lens)\n",
    "        epoch_loss += loss\n",
    "\n",
    "        loss.backward()\n",
    "        optimizer.step()\n",
    "        \n",
    "        \n",
    "        pred = model(src, row_src, lens)\n",
    "        batch_size = src.shape[0]\n",
    "        \n",
    "        for k in range(batch_size):\n",
    "            length = lens[k]\n",
    "\n",
    "#             num_correct += (torch.tensor(pred[k]) == tgt[k, :length]).sum()\n",
    "            num_correct += (pred[k, :length] == tgt[k, :length]).sum()\n",
    "            num_tokens += length\n",
    "    epoch_acc = num_correct.item() / num_tokens\n",
    "    print(\"Training Epoch # {} Loss: {:.2f} Acc: {:.2f}\".format(i+1, epoch_loss.item(), epoch_acc))\n",
    "    \n",
    "\n",
    "    # validation on dev dataset\n",
    "    if i % do_validation == 0:\n",
    "    #     model.eval()\n",
    "    #     total_tokens = 0\n",
    "    #     correct = 0\n",
    "    #     with torch.no_grad():\n",
    "    #         src, tgt, row_src, row_tgt, lens = next(iter(dev_dl))\n",
    "    #         src = src.to(device)\n",
    "    #         tgt = tgt.to(device)\n",
    "    #         lens = lens.to(device)\n",
    "    # #             row_src = row_src.to(device)\n",
    "    # #             row_tgt = row_tgt.to(device)\n",
    "\n",
    "    #         pred = model(src, row_src, lens)\n",
    "    #         for k in range(src.shape[0]):\n",
    "    #             length = lens[k]\n",
    "    #             # correct += (torch.tensor(pred[k]).cuda() == tgt[k, :length]).sum()\n",
    "    #             correct += (pred[i, :length] == tgt[i, :length]).sum()\n",
    "    #             total_tokens += length\n",
    "    #     dev_acc = correct/total_tokens\n",
    "        # return correct/total_tokens\n",
    "        dev_acc = eval_model(next(iter(dev_dl)), model)\n",
    "        print(\"Acc on dev: {:.2f}\".format(dev_acc))\n"
   ]
  },
  {
   "cell_type": "markdown",
   "metadata": {
    "id": "2qIjR0UmKrxv"
   },
   "source": [
    "## Testing on test dataset"
   ]
  },
  {
   "cell_type": "code",
   "execution_count": 230,
   "metadata": {
    "colab": {
     "base_uri": "https://localhost:8080/"
    },
    "id": "OGtyy2_-55TP",
    "outputId": "fd1bb2c5-7fb5-4646-a96e-361d5839d86d"
   },
   "outputs": [
    {
     "ename": "IndexError",
     "evalue": "list index out of range",
     "output_type": "error",
     "traceback": [
      "\u001b[0;31m---------------------------------------------------------------------------\u001b[0m",
      "\u001b[0;31mIndexError\u001b[0m                                Traceback (most recent call last)",
      "\u001b[0;32m/var/folders/p6/w76xdd4n0gq5z_hcc7zglq2w0000gn/T/ipykernel_77990/3981862668.py\u001b[0m in \u001b[0;36m<module>\u001b[0;34m\u001b[0m\n\u001b[1;32m     22\u001b[0m \u001b[0;34m\u001b[0m\u001b[0m\n\u001b[1;32m     23\u001b[0m \u001b[0mtest_filepath\u001b[0m \u001b[0;34m=\u001b[0m \u001b[0mos\u001b[0m\u001b[0;34m.\u001b[0m\u001b[0mpath\u001b[0m\u001b[0;34m.\u001b[0m\u001b[0mjoin\u001b[0m\u001b[0;34m(\u001b[0m\u001b[0mos\u001b[0m\u001b[0;34m.\u001b[0m\u001b[0mgetcwd\u001b[0m\u001b[0;34m(\u001b[0m\u001b[0;34m)\u001b[0m\u001b[0;34m,\u001b[0m \u001b[0;34m\"test/ptb_23.snt\"\u001b[0m\u001b[0;34m)\u001b[0m\u001b[0;34m\u001b[0m\u001b[0;34m\u001b[0m\u001b[0m\n\u001b[0;32m---> 24\u001b[0;31m \u001b[0mdev\u001b[0m \u001b[0;34m=\u001b[0m \u001b[0mread_in_gold_data\u001b[0m\u001b[0;34m(\u001b[0m\u001b[0mtest_filepath\u001b[0m\u001b[0;34m)\u001b[0m\u001b[0;34m\u001b[0m\u001b[0;34m\u001b[0m\u001b[0m\n\u001b[0m\u001b[1;32m     25\u001b[0m \u001b[0mprint\u001b[0m\u001b[0;34m(\u001b[0m\u001b[0mdev\u001b[0m\u001b[0;34m)\u001b[0m\u001b[0;34m\u001b[0m\u001b[0;34m\u001b[0m\u001b[0m\n\u001b[1;32m     26\u001b[0m \u001b[0;31m# print(dev[:99])\u001b[0m\u001b[0;34m\u001b[0m\u001b[0;34m\u001b[0m\u001b[0m\n",
      "\u001b[0;32m/var/folders/p6/w76xdd4n0gq5z_hcc7zglq2w0000gn/T/ipykernel_77990/3935615645.py\u001b[0m in \u001b[0;36mread_in_gold_data\u001b[0;34m(filename)\u001b[0m\n\u001b[1;32m      6\u001b[0m             \u001b[0mtuples\u001b[0m \u001b[0;34m=\u001b[0m \u001b[0;34m[\u001b[0m\u001b[0mtup\u001b[0m\u001b[0;34m.\u001b[0m\u001b[0msplit\u001b[0m\u001b[0;34m(\u001b[0m\u001b[0;34m'_'\u001b[0m\u001b[0;34m)\u001b[0m \u001b[0;32mfor\u001b[0m \u001b[0mtup\u001b[0m \u001b[0;32min\u001b[0m \u001b[0mline\u001b[0m\u001b[0;34m.\u001b[0m\u001b[0msplit\u001b[0m\u001b[0;34m(\u001b[0m\u001b[0;34m)\u001b[0m\u001b[0;34m]\u001b[0m\u001b[0;34m\u001b[0m\u001b[0;34m\u001b[0m\u001b[0m\n\u001b[1;32m      7\u001b[0m             \u001b[0mtokens\u001b[0m \u001b[0;34m=\u001b[0m \u001b[0;34m[\u001b[0m\u001b[0mtup\u001b[0m\u001b[0;34m[\u001b[0m\u001b[0;36m0\u001b[0m\u001b[0;34m]\u001b[0m\u001b[0;34m.\u001b[0m\u001b[0mlower\u001b[0m\u001b[0;34m(\u001b[0m\u001b[0;34m)\u001b[0m \u001b[0;32mfor\u001b[0m \u001b[0mtup\u001b[0m \u001b[0;32min\u001b[0m \u001b[0mtuples\u001b[0m\u001b[0;34m]\u001b[0m\u001b[0;34m\u001b[0m\u001b[0;34m\u001b[0m\u001b[0m\n\u001b[0;32m----> 8\u001b[0;31m             \u001b[0mtags\u001b[0m \u001b[0;34m=\u001b[0m \u001b[0;34m[\u001b[0m\u001b[0mtup\u001b[0m\u001b[0;34m[\u001b[0m\u001b[0;36m1\u001b[0m\u001b[0;34m]\u001b[0m \u001b[0;32mfor\u001b[0m \u001b[0mtup\u001b[0m \u001b[0;32min\u001b[0m \u001b[0mtuples\u001b[0m\u001b[0;34m]\u001b[0m\u001b[0;34m\u001b[0m\u001b[0;34m\u001b[0m\u001b[0m\n\u001b[0m\u001b[1;32m      9\u001b[0m             \u001b[0mdataset\u001b[0m\u001b[0;34m.\u001b[0m\u001b[0mappend\u001b[0m\u001b[0;34m(\u001b[0m\u001b[0;34m(\u001b[0m\u001b[0mtokens\u001b[0m\u001b[0;34m,\u001b[0m \u001b[0mtags\u001b[0m\u001b[0;34m)\u001b[0m\u001b[0;34m)\u001b[0m\u001b[0;34m\u001b[0m\u001b[0;34m\u001b[0m\u001b[0m\n\u001b[1;32m     10\u001b[0m     \u001b[0;32mreturn\u001b[0m \u001b[0mdataset\u001b[0m\u001b[0;34m\u001b[0m\u001b[0;34m\u001b[0m\u001b[0m\n",
      "\u001b[0;32m/var/folders/p6/w76xdd4n0gq5z_hcc7zglq2w0000gn/T/ipykernel_77990/3935615645.py\u001b[0m in \u001b[0;36m<listcomp>\u001b[0;34m(.0)\u001b[0m\n\u001b[1;32m      6\u001b[0m             \u001b[0mtuples\u001b[0m \u001b[0;34m=\u001b[0m \u001b[0;34m[\u001b[0m\u001b[0mtup\u001b[0m\u001b[0;34m.\u001b[0m\u001b[0msplit\u001b[0m\u001b[0;34m(\u001b[0m\u001b[0;34m'_'\u001b[0m\u001b[0;34m)\u001b[0m \u001b[0;32mfor\u001b[0m \u001b[0mtup\u001b[0m \u001b[0;32min\u001b[0m \u001b[0mline\u001b[0m\u001b[0;34m.\u001b[0m\u001b[0msplit\u001b[0m\u001b[0;34m(\u001b[0m\u001b[0;34m)\u001b[0m\u001b[0;34m]\u001b[0m\u001b[0;34m\u001b[0m\u001b[0;34m\u001b[0m\u001b[0m\n\u001b[1;32m      7\u001b[0m             \u001b[0mtokens\u001b[0m \u001b[0;34m=\u001b[0m \u001b[0;34m[\u001b[0m\u001b[0mtup\u001b[0m\u001b[0;34m[\u001b[0m\u001b[0;36m0\u001b[0m\u001b[0;34m]\u001b[0m\u001b[0;34m.\u001b[0m\u001b[0mlower\u001b[0m\u001b[0;34m(\u001b[0m\u001b[0;34m)\u001b[0m \u001b[0;32mfor\u001b[0m \u001b[0mtup\u001b[0m \u001b[0;32min\u001b[0m \u001b[0mtuples\u001b[0m\u001b[0;34m]\u001b[0m\u001b[0;34m\u001b[0m\u001b[0;34m\u001b[0m\u001b[0m\n\u001b[0;32m----> 8\u001b[0;31m             \u001b[0mtags\u001b[0m \u001b[0;34m=\u001b[0m \u001b[0;34m[\u001b[0m\u001b[0mtup\u001b[0m\u001b[0;34m[\u001b[0m\u001b[0;36m1\u001b[0m\u001b[0;34m]\u001b[0m \u001b[0;32mfor\u001b[0m \u001b[0mtup\u001b[0m \u001b[0;32min\u001b[0m \u001b[0mtuples\u001b[0m\u001b[0;34m]\u001b[0m\u001b[0;34m\u001b[0m\u001b[0;34m\u001b[0m\u001b[0m\n\u001b[0m\u001b[1;32m      9\u001b[0m             \u001b[0mdataset\u001b[0m\u001b[0;34m.\u001b[0m\u001b[0mappend\u001b[0m\u001b[0;34m(\u001b[0m\u001b[0;34m(\u001b[0m\u001b[0mtokens\u001b[0m\u001b[0;34m,\u001b[0m \u001b[0mtags\u001b[0m\u001b[0;34m)\u001b[0m\u001b[0;34m)\u001b[0m\u001b[0;34m\u001b[0m\u001b[0;34m\u001b[0m\u001b[0m\n\u001b[1;32m     10\u001b[0m     \u001b[0;32mreturn\u001b[0m \u001b[0mdataset\u001b[0m\u001b[0;34m\u001b[0m\u001b[0;34m\u001b[0m\u001b[0m\n",
      "\u001b[0;31mIndexError\u001b[0m: list index out of range"
     ]
    }
   ],
   "source": [
    "\n",
    "def read_in_plain_data(filename):\n",
    "    \"\"\"Read in plain text data for sequence labeling, assuming a one-sentence-per-line format\"\"\"\n",
    "    with open(filename) as f:\n",
    "        lines = f.readlines()\n",
    "        lines = [line.split() for line in lines]\n",
    "    return lines\n",
    "\n",
    "def featurize(line):\n",
    "    normalized_tokens = [x if x in token2idx else UNK for x in line]\n",
    "    featurized_tokens = [token2idx[x] for x in normalized_tokens]\n",
    "    return featurized_tokens\n",
    "\n",
    "def padding(data):\n",
    "    featurized_lines = []\n",
    "    for line in data:\n",
    "        featurized_lines.append(torch.tensor(featurize(line), dtype=torch.int64))\n",
    "    lens = [len(x) for x in featurized_lines]\n",
    "#     print(featurized_lines)\n",
    "    tokens = pad_sequence(featurized_lines, batch_first=True, padding_value=PAD_IDX)\n",
    "    return tokens, torch.tensor(lens)\n",
    "\n",
    "\n",
    "test_filepath = os.path.join(os.getcwd(), \"dev/ptb_23.snt\")\n",
    "dev = read_in_gold_data(test_filepath)\n",
    "print(dev)\n",
    "# print(dev[:99])\n",
    "gold = [tag for seq, tag in dev]\n",
    "# print(gold[:99])\n",
    "\n",
    "\n",
    "# test_filepath = \"/content/drive/MyDrive/PA3_Starter_code/dev/ptb_22.snt\"\n",
    "test_filepath = os.path.join(os.getcwd(), \"dev/ptb_22.snt\")\n",
    "data = read_in_plain_data(test_filepath)\n",
    "tokens, lens = padding(data)\n",
    "\n",
    "# with torch.no_grad():\n",
    "#   pred = model(tokens.to(device), data, lens.to(device))\n",
    "# print(len(pred))\n",
    "# print(idx2tag)\n",
    "# for line in pred:\n",
    "#     print([idx2tag[tag] for tag in line])\n",
    "# return correct/total_tokens\n",
    "\n",
    "\n"
   ]
  },
  {
   "cell_type": "code",
   "execution_count": 224,
   "metadata": {
    "colab": {
     "base_uri": "https://localhost:8080/"
    },
    "id": "KbEYNBRpKrxw",
    "outputId": "d822756a-80fb-49c5-9c6f-84166c12a355"
   },
   "outputs": [
    {
     "ename": "KeyError",
     "evalue": "tensor(16)",
     "output_type": "error",
     "traceback": [
      "\u001b[0;31m---------------------------------------------------------------------------\u001b[0m",
      "\u001b[0;31mKeyError\u001b[0m                                  Traceback (most recent call last)",
      "\u001b[0;32m/var/folders/p6/w76xdd4n0gq5z_hcc7zglq2w0000gn/T/ipykernel_77990/2148867380.py\u001b[0m in \u001b[0;36m<module>\u001b[0;34m\u001b[0m\n\u001b[1;32m     19\u001b[0m     \u001b[0;31m# print(line)\u001b[0m\u001b[0;34m\u001b[0m\u001b[0;34m\u001b[0m\u001b[0m\n\u001b[1;32m     20\u001b[0m     \u001b[0;31m# print(gol)\u001b[0m\u001b[0;34m\u001b[0m\u001b[0;34m\u001b[0m\u001b[0m\n\u001b[0;32m---> 21\u001b[0;31m     \u001b[0mcnt\u001b[0m\u001b[0;34m,\u001b[0m \u001b[0mcor\u001b[0m \u001b[0;34m=\u001b[0m \u001b[0mcompare_tagseq\u001b[0m\u001b[0;34m(\u001b[0m\u001b[0mgol\u001b[0m\u001b[0;34m,\u001b[0m \u001b[0;34m[\u001b[0m\u001b[0midx2tag\u001b[0m\u001b[0;34m[\u001b[0m\u001b[0mtag\u001b[0m\u001b[0;34m]\u001b[0m \u001b[0;32mfor\u001b[0m \u001b[0mtag\u001b[0m \u001b[0;32min\u001b[0m \u001b[0mtags\u001b[0m\u001b[0;34m]\u001b[0m\u001b[0;34m)\u001b[0m\u001b[0;34m\u001b[0m\u001b[0;34m\u001b[0m\u001b[0m\n\u001b[0m\u001b[1;32m     22\u001b[0m     \u001b[0;31m# print(cnt, cor)\u001b[0m\u001b[0;34m\u001b[0m\u001b[0;34m\u001b[0m\u001b[0m\n\u001b[1;32m     23\u001b[0m     \u001b[0mtotal\u001b[0m \u001b[0;34m+=\u001b[0m \u001b[0mcnt\u001b[0m\u001b[0;34m\u001b[0m\u001b[0;34m\u001b[0m\u001b[0m\n",
      "\u001b[0;32m/var/folders/p6/w76xdd4n0gq5z_hcc7zglq2w0000gn/T/ipykernel_77990/2148867380.py\u001b[0m in \u001b[0;36m<listcomp>\u001b[0;34m(.0)\u001b[0m\n\u001b[1;32m     19\u001b[0m     \u001b[0;31m# print(line)\u001b[0m\u001b[0;34m\u001b[0m\u001b[0;34m\u001b[0m\u001b[0m\n\u001b[1;32m     20\u001b[0m     \u001b[0;31m# print(gol)\u001b[0m\u001b[0;34m\u001b[0m\u001b[0;34m\u001b[0m\u001b[0m\n\u001b[0;32m---> 21\u001b[0;31m     \u001b[0mcnt\u001b[0m\u001b[0;34m,\u001b[0m \u001b[0mcor\u001b[0m \u001b[0;34m=\u001b[0m \u001b[0mcompare_tagseq\u001b[0m\u001b[0;34m(\u001b[0m\u001b[0mgol\u001b[0m\u001b[0;34m,\u001b[0m \u001b[0;34m[\u001b[0m\u001b[0midx2tag\u001b[0m\u001b[0;34m[\u001b[0m\u001b[0mtag\u001b[0m\u001b[0;34m]\u001b[0m \u001b[0;32mfor\u001b[0m \u001b[0mtag\u001b[0m \u001b[0;32min\u001b[0m \u001b[0mtags\u001b[0m\u001b[0;34m]\u001b[0m\u001b[0;34m)\u001b[0m\u001b[0;34m\u001b[0m\u001b[0;34m\u001b[0m\u001b[0m\n\u001b[0m\u001b[1;32m     22\u001b[0m     \u001b[0;31m# print(cnt, cor)\u001b[0m\u001b[0;34m\u001b[0m\u001b[0;34m\u001b[0m\u001b[0m\n\u001b[1;32m     23\u001b[0m     \u001b[0mtotal\u001b[0m \u001b[0;34m+=\u001b[0m \u001b[0mcnt\u001b[0m\u001b[0;34m\u001b[0m\u001b[0;34m\u001b[0m\u001b[0m\n",
      "\u001b[0;31mKeyError\u001b[0m: tensor(16)"
     ]
    }
   ],
   "source": [
    "def compare_tagseq(goldseq, predicted_seq):\n",
    "    \"\"\"Compare two sequences and output the length of the sequence \n",
    "    and the number of tags they share. A helper function to the evaluation function\"\"\"\n",
    "    pairs = zip(goldseq, predicted_seq)\n",
    "    correct = len([1 for pair in pairs if pair[0]== pair[1]])\n",
    "    return len(goldseq), correct\n",
    "\n",
    "    \n",
    "i = 0\n",
    "total = 0\n",
    "correct = 0\n",
    "for tags, line, gol in zip(pred, data, gold):\n",
    "    i += 1\n",
    "    # print(gol)\n",
    "    # for tag in tags:\n",
    "    #   print(tag)\n",
    "    #   print()\n",
    "    # print([idx2tag[tag.item()] for tag in tags])\n",
    "    # print(line)\n",
    "    # print(gol)\n",
    "    cnt, cor = compare_tagseq(gol, [idx2tag[tag] for tag in tags])\n",
    "    # print(cnt, cor)\n",
    "    total += cnt\n",
    "    correct += cor\n",
    "    # print(line)\n",
    "    # print([idx2tag[tag] for tag in tags])\n",
    "    # print(gol)\n",
    "    # print()\n",
    "    # if i == 99:\n",
    "    #   break\n",
    "print(correct/total)"
   ]
  },
  {
   "cell_type": "code",
   "execution_count": 228,
   "metadata": {
    "id": "KI28r03-Krxw"
   },
   "outputs": [
    {
     "data": {
      "image/png": "[encoded data removed]",
      "text/plain": [
       "<Figure size 432x288 with 1 Axes>"
      ]
     },
     "metadata": {
      "needs_background": "light"
     },
     "output_type": "display_data"
    }
   ],
   "source": [
    "import matplotlib.pyplot as plt\n",
    "dev_result = [1, 2, 3, 4, 5]\n",
    "dev_result2 = [2, 3, 4, 5, 6]\n",
    "plt.figure()\n",
    "plt.plot(list(range(NUM_EPOCHS)), dev_result, 'b', label='random initialized embeddings')\n",
    "plt.plot(list(range(NUM_EPOCHS)), dev_result2, 'g', label='pre-training embeddings')\n",
    "plt.title('validation acc on different epoches')\n",
    "plt.legend()\n",
    "plt.show()"
   ]
  },
  {
   "cell_type": "code",
   "execution_count": null,
   "metadata": {},
   "outputs": [],
   "source": []
  }
 ],
 "metadata": {
  "accelerator": "GPU",
  "colab": {
   "machine_shape": "hm",
   "name": "project3.ipynb",
   "provenance": []
  },
  "kernelspec": {
   "display_name": "Python 3 (ipykernel)",
   "language": "python",
   "name": "python3"
  },
  "language_info": {
   "codemirror_mode": {
    "name": "ipython",
    "version": 3
   },
   "file_extension": ".py",
   "mimetype": "text/x-python",
   "name": "python",
   "nbconvert_exporter": "python",
   "pygments_lexer": "ipython3",
   "version": "3.9.7"
  }
 },
 "nbformat": 4,
 "nbformat_minor": 1
}
